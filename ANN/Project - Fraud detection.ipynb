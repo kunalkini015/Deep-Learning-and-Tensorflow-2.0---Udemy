{
 "cells": [
  {
   "cell_type": "code",
   "execution_count": 1,
   "metadata": {},
   "outputs": [],
   "source": [
    "import pandas as pd\n",
    "import numpy as np\n",
    "import matplotlib.pyplot as plt\n",
    "import seaborn as sns"
   ]
  },
  {
   "cell_type": "code",
   "execution_count": 2,
   "metadata": {},
   "outputs": [],
   "source": [
    "# following csv file contains the feautre information of the dataset\n",
    "feature_info = pd.read_csv(\"C:\\\\Users\\\\KARAN S07\\\\Desktop\\\\Final Year\\\\Deep Learning\\\\TF-Course-Notebooks\\\\TF_Course_Notebooks\\\\DATA\\\\lending_club_info.csv\",index_col='LoanStatNew')\n",
    "# feat_info is used to get the description of the features using just the feature name.\n",
    "def feat_info(feature_name):\n",
    "    return feature_info.loc[feature_name]['Description']"
   ]
  },
  {
   "cell_type": "code",
   "execution_count": 3,
   "metadata": {},
   "outputs": [],
   "source": [
    "# the dataset which contains the historical information about the loan procedures\n",
    "\n",
    "df = pd.read_csv(\"C:\\\\Users\\\\KARAN S07\\\\Desktop\\\\Final Year\\\\Deep Learning\\\\TF-Course-Notebooks\\\\TF_Course_Notebooks\\\\DATA\\\\lending_club_loan_two.csv\")"
   ]
  },
  {
   "cell_type": "code",
   "execution_count": 4,
   "metadata": {},
   "outputs": [
    {
     "data": {
      "text/html": [
       "<div>\n",
       "<style scoped>\n",
       "    .dataframe tbody tr th:only-of-type {\n",
       "        vertical-align: middle;\n",
       "    }\n",
       "\n",
       "    .dataframe tbody tr th {\n",
       "        vertical-align: top;\n",
       "    }\n",
       "\n",
       "    .dataframe thead th {\n",
       "        text-align: right;\n",
       "    }\n",
       "</style>\n",
       "<table border=\"1\" class=\"dataframe\">\n",
       "  <thead>\n",
       "    <tr style=\"text-align: right;\">\n",
       "      <th></th>\n",
       "      <th>loan_amnt</th>\n",
       "      <th>term</th>\n",
       "      <th>int_rate</th>\n",
       "      <th>installment</th>\n",
       "      <th>grade</th>\n",
       "      <th>sub_grade</th>\n",
       "      <th>emp_title</th>\n",
       "      <th>emp_length</th>\n",
       "      <th>home_ownership</th>\n",
       "      <th>annual_inc</th>\n",
       "      <th>...</th>\n",
       "      <th>open_acc</th>\n",
       "      <th>pub_rec</th>\n",
       "      <th>revol_bal</th>\n",
       "      <th>revol_util</th>\n",
       "      <th>total_acc</th>\n",
       "      <th>initial_list_status</th>\n",
       "      <th>application_type</th>\n",
       "      <th>mort_acc</th>\n",
       "      <th>pub_rec_bankruptcies</th>\n",
       "      <th>address</th>\n",
       "    </tr>\n",
       "  </thead>\n",
       "  <tbody>\n",
       "    <tr>\n",
       "      <th>0</th>\n",
       "      <td>10000.0</td>\n",
       "      <td>36 months</td>\n",
       "      <td>11.44</td>\n",
       "      <td>329.48</td>\n",
       "      <td>B</td>\n",
       "      <td>B4</td>\n",
       "      <td>Marketing</td>\n",
       "      <td>10+ years</td>\n",
       "      <td>RENT</td>\n",
       "      <td>117000.0</td>\n",
       "      <td>...</td>\n",
       "      <td>16.0</td>\n",
       "      <td>0.0</td>\n",
       "      <td>36369.0</td>\n",
       "      <td>41.8</td>\n",
       "      <td>25.0</td>\n",
       "      <td>w</td>\n",
       "      <td>INDIVIDUAL</td>\n",
       "      <td>0.0</td>\n",
       "      <td>0.0</td>\n",
       "      <td>0174 Michelle Gateway\\nMendozaberg, OK 22690</td>\n",
       "    </tr>\n",
       "    <tr>\n",
       "      <th>1</th>\n",
       "      <td>8000.0</td>\n",
       "      <td>36 months</td>\n",
       "      <td>11.99</td>\n",
       "      <td>265.68</td>\n",
       "      <td>B</td>\n",
       "      <td>B5</td>\n",
       "      <td>Credit analyst</td>\n",
       "      <td>4 years</td>\n",
       "      <td>MORTGAGE</td>\n",
       "      <td>65000.0</td>\n",
       "      <td>...</td>\n",
       "      <td>17.0</td>\n",
       "      <td>0.0</td>\n",
       "      <td>20131.0</td>\n",
       "      <td>53.3</td>\n",
       "      <td>27.0</td>\n",
       "      <td>f</td>\n",
       "      <td>INDIVIDUAL</td>\n",
       "      <td>3.0</td>\n",
       "      <td>0.0</td>\n",
       "      <td>1076 Carney Fort Apt. 347\\nLoganmouth, SD 05113</td>\n",
       "    </tr>\n",
       "    <tr>\n",
       "      <th>2</th>\n",
       "      <td>15600.0</td>\n",
       "      <td>36 months</td>\n",
       "      <td>10.49</td>\n",
       "      <td>506.97</td>\n",
       "      <td>B</td>\n",
       "      <td>B3</td>\n",
       "      <td>Statistician</td>\n",
       "      <td>&lt; 1 year</td>\n",
       "      <td>RENT</td>\n",
       "      <td>43057.0</td>\n",
       "      <td>...</td>\n",
       "      <td>13.0</td>\n",
       "      <td>0.0</td>\n",
       "      <td>11987.0</td>\n",
       "      <td>92.2</td>\n",
       "      <td>26.0</td>\n",
       "      <td>f</td>\n",
       "      <td>INDIVIDUAL</td>\n",
       "      <td>0.0</td>\n",
       "      <td>0.0</td>\n",
       "      <td>87025 Mark Dale Apt. 269\\nNew Sabrina, WV 05113</td>\n",
       "    </tr>\n",
       "    <tr>\n",
       "      <th>3</th>\n",
       "      <td>7200.0</td>\n",
       "      <td>36 months</td>\n",
       "      <td>6.49</td>\n",
       "      <td>220.65</td>\n",
       "      <td>A</td>\n",
       "      <td>A2</td>\n",
       "      <td>Client Advocate</td>\n",
       "      <td>6 years</td>\n",
       "      <td>RENT</td>\n",
       "      <td>54000.0</td>\n",
       "      <td>...</td>\n",
       "      <td>6.0</td>\n",
       "      <td>0.0</td>\n",
       "      <td>5472.0</td>\n",
       "      <td>21.5</td>\n",
       "      <td>13.0</td>\n",
       "      <td>f</td>\n",
       "      <td>INDIVIDUAL</td>\n",
       "      <td>0.0</td>\n",
       "      <td>0.0</td>\n",
       "      <td>823 Reid Ford\\nDelacruzside, MA 00813</td>\n",
       "    </tr>\n",
       "    <tr>\n",
       "      <th>4</th>\n",
       "      <td>24375.0</td>\n",
       "      <td>60 months</td>\n",
       "      <td>17.27</td>\n",
       "      <td>609.33</td>\n",
       "      <td>C</td>\n",
       "      <td>C5</td>\n",
       "      <td>Destiny Management Inc.</td>\n",
       "      <td>9 years</td>\n",
       "      <td>MORTGAGE</td>\n",
       "      <td>55000.0</td>\n",
       "      <td>...</td>\n",
       "      <td>13.0</td>\n",
       "      <td>0.0</td>\n",
       "      <td>24584.0</td>\n",
       "      <td>69.8</td>\n",
       "      <td>43.0</td>\n",
       "      <td>f</td>\n",
       "      <td>INDIVIDUAL</td>\n",
       "      <td>1.0</td>\n",
       "      <td>0.0</td>\n",
       "      <td>679 Luna Roads\\nGreggshire, VA 11650</td>\n",
       "    </tr>\n",
       "  </tbody>\n",
       "</table>\n",
       "<p>5 rows × 27 columns</p>\n",
       "</div>"
      ],
      "text/plain": [
       "   loan_amnt        term  int_rate  installment grade sub_grade  \\\n",
       "0    10000.0   36 months     11.44       329.48     B        B4   \n",
       "1     8000.0   36 months     11.99       265.68     B        B5   \n",
       "2    15600.0   36 months     10.49       506.97     B        B3   \n",
       "3     7200.0   36 months      6.49       220.65     A        A2   \n",
       "4    24375.0   60 months     17.27       609.33     C        C5   \n",
       "\n",
       "                 emp_title emp_length home_ownership  annual_inc  ...  \\\n",
       "0                Marketing  10+ years           RENT    117000.0  ...   \n",
       "1          Credit analyst     4 years       MORTGAGE     65000.0  ...   \n",
       "2             Statistician   < 1 year           RENT     43057.0  ...   \n",
       "3          Client Advocate    6 years           RENT     54000.0  ...   \n",
       "4  Destiny Management Inc.    9 years       MORTGAGE     55000.0  ...   \n",
       "\n",
       "  open_acc pub_rec revol_bal revol_util total_acc  initial_list_status  \\\n",
       "0     16.0     0.0   36369.0       41.8      25.0                    w   \n",
       "1     17.0     0.0   20131.0       53.3      27.0                    f   \n",
       "2     13.0     0.0   11987.0       92.2      26.0                    f   \n",
       "3      6.0     0.0    5472.0       21.5      13.0                    f   \n",
       "4     13.0     0.0   24584.0       69.8      43.0                    f   \n",
       "\n",
       "  application_type  mort_acc  pub_rec_bankruptcies  \\\n",
       "0       INDIVIDUAL       0.0                   0.0   \n",
       "1       INDIVIDUAL       3.0                   0.0   \n",
       "2       INDIVIDUAL       0.0                   0.0   \n",
       "3       INDIVIDUAL       0.0                   0.0   \n",
       "4       INDIVIDUAL       1.0                   0.0   \n",
       "\n",
       "                                           address  \n",
       "0     0174 Michelle Gateway\\nMendozaberg, OK 22690  \n",
       "1  1076 Carney Fort Apt. 347\\nLoganmouth, SD 05113  \n",
       "2  87025 Mark Dale Apt. 269\\nNew Sabrina, WV 05113  \n",
       "3            823 Reid Ford\\nDelacruzside, MA 00813  \n",
       "4             679 Luna Roads\\nGreggshire, VA 11650  \n",
       "\n",
       "[5 rows x 27 columns]"
      ]
     },
     "execution_count": 4,
     "metadata": {},
     "output_type": "execute_result"
    }
   ],
   "source": [
    "df.head()"
   ]
  },
  {
   "cell_type": "code",
   "execution_count": 5,
   "metadata": {},
   "outputs": [],
   "source": [
    "# converting the string fully paid : 1, charged off : 0\n",
    "df[\"loan_status\"] = df[\"loan_status\"].map({'Fully Paid':1,'Charged Off':0})"
   ]
  },
  {
   "cell_type": "code",
   "execution_count": 6,
   "metadata": {},
   "outputs": [
    {
     "data": {
      "text/plain": [
       "array([' 36 months', ' 60 months'], dtype=object)"
      ]
     },
     "execution_count": 6,
     "metadata": {},
     "output_type": "execute_result"
    }
   ],
   "source": [
    "df[\"term\"].unique()"
   ]
  },
  {
   "cell_type": "code",
   "execution_count": 7,
   "metadata": {},
   "outputs": [
    {
     "data": {
      "text/plain": [
       "0    36\n",
       "1    36\n",
       "2    36\n",
       "3    36\n",
       "4    60\n",
       "Name: term_in_months, dtype: object"
      ]
     },
     "execution_count": 7,
     "metadata": {},
     "output_type": "execute_result"
    }
   ],
   "source": [
    "#conveting terms into term_in_months\n",
    "df[\"term_in_months\"] = df[\"term\"].apply(lambda x:x[1:3])\n",
    "df[\"term_in_months\"].head()"
   ]
  },
  {
   "cell_type": "code",
   "execution_count": 8,
   "metadata": {},
   "outputs": [
    {
     "data": {
      "text/plain": [
       "<matplotlib.axes._subplots.AxesSubplot at 0xa949c06e80>"
      ]
     },
     "execution_count": 8,
     "metadata": {},
     "output_type": "execute_result"
    },
    {
     "data": {
      "image/png": "[encoded data removed]",
      "text/plain": [
       "<Figure size 432x288 with 1 Axes>"
      ]
     },
     "metadata": {
      "needs_background": "light"
     },
     "output_type": "display_data"
    }
   ],
   "source": [
    "sns.countplot(x=\"home_ownership\",hue=\"loan_status\",data=df)"
   ]
  },
  {
   "cell_type": "code",
   "execution_count": 12,
   "metadata": {},
   "outputs": [
    {
     "data": {
      "text/plain": [
       "<matplotlib.axes._subplots.AxesSubplot at 0xa94a83d240>"
      ]
     },
     "execution_count": 12,
     "metadata": {},
     "output_type": "execute_result"
    },
    {
     "data": {
      "image/png": "[encoded data removed]",
      "text/plain": [
       "<Figure size 432x288 with 1 Axes>"
      ]
     },
     "metadata": {
      "needs_background": "light"
     },
     "output_type": "display_data"
    }
   ],
   "source": [
    "# col 1: loan_amount\n",
    "\n",
    "sns.scatterplot(x=\"loan_amnt\",y=\"installment\",data=df)"
   ]
  },
  {
   "cell_type": "code",
   "execution_count": 13,
   "metadata": {},
   "outputs": [
    {
     "data": {
      "text/plain": [
       "<matplotlib.axes._subplots.AxesSubplot at 0xa94a8a7780>"
      ]
     },
     "execution_count": 13,
     "metadata": {},
     "output_type": "execute_result"
    },
    {
     "data": {
      "image/png": "[encoded data removed]",
      "text/plain": [
       "<Figure size 432x288 with 1 Axes>"
      ]
     },
     "metadata": {
      "needs_background": "light"
     },
     "output_type": "display_data"
    }
   ],
   "source": [
    "sns.boxplot(y=\"loan_amnt\",x=\"loan_status\",data=df)"
   ]
  },
  {
   "cell_type": "code",
   "execution_count": 46,
   "metadata": {},
   "outputs": [],
   "source": [
    "kunaldf = df.copy()"
   ]
  },
  {
   "cell_type": "code",
   "execution_count": 47,
   "metadata": {},
   "outputs": [],
   "source": [
    "kunaldf = kunaldf.drop(\"installment\",axis=1)"
   ]
  },
  {
   "cell_type": "code",
   "execution_count": 48,
   "metadata": {},
   "outputs": [
    {
     "data": {
      "text/html": [
       "<div>\n",
       "<style scoped>\n",
       "    .dataframe tbody tr th:only-of-type {\n",
       "        vertical-align: middle;\n",
       "    }\n",
       "\n",
       "    .dataframe tbody tr th {\n",
       "        vertical-align: top;\n",
       "    }\n",
       "\n",
       "    .dataframe thead th {\n",
       "        text-align: right;\n",
       "    }\n",
       "</style>\n",
       "<table border=\"1\" class=\"dataframe\">\n",
       "  <thead>\n",
       "    <tr style=\"text-align: right;\">\n",
       "      <th></th>\n",
       "      <th>loan_amnt</th>\n",
       "      <th>term</th>\n",
       "      <th>int_rate</th>\n",
       "      <th>grade</th>\n",
       "      <th>sub_grade</th>\n",
       "      <th>emp_title</th>\n",
       "      <th>emp_length</th>\n",
       "      <th>home_ownership</th>\n",
       "      <th>annual_inc</th>\n",
       "      <th>verification_status</th>\n",
       "      <th>...</th>\n",
       "      <th>pub_rec</th>\n",
       "      <th>revol_bal</th>\n",
       "      <th>revol_util</th>\n",
       "      <th>total_acc</th>\n",
       "      <th>initial_list_status</th>\n",
       "      <th>application_type</th>\n",
       "      <th>mort_acc</th>\n",
       "      <th>pub_rec_bankruptcies</th>\n",
       "      <th>address</th>\n",
       "      <th>term_in_months</th>\n",
       "    </tr>\n",
       "  </thead>\n",
       "  <tbody>\n",
       "    <tr>\n",
       "      <th>0</th>\n",
       "      <td>10000.0</td>\n",
       "      <td>36 months</td>\n",
       "      <td>11.44</td>\n",
       "      <td>B</td>\n",
       "      <td>B4</td>\n",
       "      <td>Marketing</td>\n",
       "      <td>10+ years</td>\n",
       "      <td>RENT</td>\n",
       "      <td>117000.0</td>\n",
       "      <td>Not Verified</td>\n",
       "      <td>...</td>\n",
       "      <td>0.0</td>\n",
       "      <td>36369.0</td>\n",
       "      <td>41.8</td>\n",
       "      <td>25.0</td>\n",
       "      <td>w</td>\n",
       "      <td>INDIVIDUAL</td>\n",
       "      <td>0.0</td>\n",
       "      <td>0.0</td>\n",
       "      <td>0174 Michelle Gateway\\nMendozaberg, OK 22690</td>\n",
       "      <td>36</td>\n",
       "    </tr>\n",
       "    <tr>\n",
       "      <th>1</th>\n",
       "      <td>8000.0</td>\n",
       "      <td>36 months</td>\n",
       "      <td>11.99</td>\n",
       "      <td>B</td>\n",
       "      <td>B5</td>\n",
       "      <td>Credit analyst</td>\n",
       "      <td>4 years</td>\n",
       "      <td>MORTGAGE</td>\n",
       "      <td>65000.0</td>\n",
       "      <td>Not Verified</td>\n",
       "      <td>...</td>\n",
       "      <td>0.0</td>\n",
       "      <td>20131.0</td>\n",
       "      <td>53.3</td>\n",
       "      <td>27.0</td>\n",
       "      <td>f</td>\n",
       "      <td>INDIVIDUAL</td>\n",
       "      <td>3.0</td>\n",
       "      <td>0.0</td>\n",
       "      <td>1076 Carney Fort Apt. 347\\nLoganmouth, SD 05113</td>\n",
       "      <td>36</td>\n",
       "    </tr>\n",
       "    <tr>\n",
       "      <th>2</th>\n",
       "      <td>15600.0</td>\n",
       "      <td>36 months</td>\n",
       "      <td>10.49</td>\n",
       "      <td>B</td>\n",
       "      <td>B3</td>\n",
       "      <td>Statistician</td>\n",
       "      <td>&lt; 1 year</td>\n",
       "      <td>RENT</td>\n",
       "      <td>43057.0</td>\n",
       "      <td>Source Verified</td>\n",
       "      <td>...</td>\n",
       "      <td>0.0</td>\n",
       "      <td>11987.0</td>\n",
       "      <td>92.2</td>\n",
       "      <td>26.0</td>\n",
       "      <td>f</td>\n",
       "      <td>INDIVIDUAL</td>\n",
       "      <td>0.0</td>\n",
       "      <td>0.0</td>\n",
       "      <td>87025 Mark Dale Apt. 269\\nNew Sabrina, WV 05113</td>\n",
       "      <td>36</td>\n",
       "    </tr>\n",
       "    <tr>\n",
       "      <th>3</th>\n",
       "      <td>7200.0</td>\n",
       "      <td>36 months</td>\n",
       "      <td>6.49</td>\n",
       "      <td>A</td>\n",
       "      <td>A2</td>\n",
       "      <td>Client Advocate</td>\n",
       "      <td>6 years</td>\n",
       "      <td>RENT</td>\n",
       "      <td>54000.0</td>\n",
       "      <td>Not Verified</td>\n",
       "      <td>...</td>\n",
       "      <td>0.0</td>\n",
       "      <td>5472.0</td>\n",
       "      <td>21.5</td>\n",
       "      <td>13.0</td>\n",
       "      <td>f</td>\n",
       "      <td>INDIVIDUAL</td>\n",
       "      <td>0.0</td>\n",
       "      <td>0.0</td>\n",
       "      <td>823 Reid Ford\\nDelacruzside, MA 00813</td>\n",
       "      <td>36</td>\n",
       "    </tr>\n",
       "    <tr>\n",
       "      <th>4</th>\n",
       "      <td>24375.0</td>\n",
       "      <td>60 months</td>\n",
       "      <td>17.27</td>\n",
       "      <td>C</td>\n",
       "      <td>C5</td>\n",
       "      <td>Destiny Management Inc.</td>\n",
       "      <td>9 years</td>\n",
       "      <td>MORTGAGE</td>\n",
       "      <td>55000.0</td>\n",
       "      <td>Verified</td>\n",
       "      <td>...</td>\n",
       "      <td>0.0</td>\n",
       "      <td>24584.0</td>\n",
       "      <td>69.8</td>\n",
       "      <td>43.0</td>\n",
       "      <td>f</td>\n",
       "      <td>INDIVIDUAL</td>\n",
       "      <td>1.0</td>\n",
       "      <td>0.0</td>\n",
       "      <td>679 Luna Roads\\nGreggshire, VA 11650</td>\n",
       "      <td>60</td>\n",
       "    </tr>\n",
       "  </tbody>\n",
       "</table>\n",
       "<p>5 rows × 27 columns</p>\n",
       "</div>"
      ],
      "text/plain": [
       "   loan_amnt        term  int_rate grade sub_grade                emp_title  \\\n",
       "0    10000.0   36 months     11.44     B        B4                Marketing   \n",
       "1     8000.0   36 months     11.99     B        B5          Credit analyst    \n",
       "2    15600.0   36 months     10.49     B        B3             Statistician   \n",
       "3     7200.0   36 months      6.49     A        A2          Client Advocate   \n",
       "4    24375.0   60 months     17.27     C        C5  Destiny Management Inc.   \n",
       "\n",
       "  emp_length home_ownership  annual_inc verification_status  ... pub_rec  \\\n",
       "0  10+ years           RENT    117000.0        Not Verified  ...     0.0   \n",
       "1    4 years       MORTGAGE     65000.0        Not Verified  ...     0.0   \n",
       "2   < 1 year           RENT     43057.0     Source Verified  ...     0.0   \n",
       "3    6 years           RENT     54000.0        Not Verified  ...     0.0   \n",
       "4    9 years       MORTGAGE     55000.0            Verified  ...     0.0   \n",
       "\n",
       "   revol_bal revol_util total_acc  initial_list_status application_type  \\\n",
       "0    36369.0       41.8      25.0                    w       INDIVIDUAL   \n",
       "1    20131.0       53.3      27.0                    f       INDIVIDUAL   \n",
       "2    11987.0       92.2      26.0                    f       INDIVIDUAL   \n",
       "3     5472.0       21.5      13.0                    f       INDIVIDUAL   \n",
       "4    24584.0       69.8      43.0                    f       INDIVIDUAL   \n",
       "\n",
       "   mort_acc  pub_rec_bankruptcies  \\\n",
       "0       0.0                   0.0   \n",
       "1       3.0                   0.0   \n",
       "2       0.0                   0.0   \n",
       "3       0.0                   0.0   \n",
       "4       1.0                   0.0   \n",
       "\n",
       "                                           address  term_in_months  \n",
       "0     0174 Michelle Gateway\\nMendozaberg, OK 22690              36  \n",
       "1  1076 Carney Fort Apt. 347\\nLoganmouth, SD 05113              36  \n",
       "2  87025 Mark Dale Apt. 269\\nNew Sabrina, WV 05113              36  \n",
       "3            823 Reid Ford\\nDelacruzside, MA 00813              36  \n",
       "4             679 Luna Roads\\nGreggshire, VA 11650              60  \n",
       "\n",
       "[5 rows x 27 columns]"
      ]
     },
     "execution_count": 48,
     "metadata": {},
     "output_type": "execute_result"
    }
   ],
   "source": [
    "kunaldf.head()"
   ]
  },
  {
   "cell_type": "code",
   "execution_count": 49,
   "metadata": {},
   "outputs": [
    {
     "data": {
      "text/plain": [
       "<matplotlib.axes._subplots.AxesSubplot at 0xa9039c70b8>"
      ]
     },
     "execution_count": 49,
     "metadata": {},
     "output_type": "execute_result"
    },
    {
     "data": {
      "image/png": "[encoded data removed]",
      "text/plain": [
       "<Figure size 864x576 with 1 Axes>"
      ]
     },
     "metadata": {
      "needs_background": "light"
     },
     "output_type": "display_data"
    }
   ],
   "source": [
    "plt.figure(figsize=(12,8))\n",
    "sns.countplot(x=\"term_in_months\",hue=\"loan_status\",data=kunaldf)"
   ]
  },
  {
   "cell_type": "code",
   "execution_count": 50,
   "metadata": {},
   "outputs": [],
   "source": [
    "# it can be understood that lesser the term higher the chances of repayment."
   ]
  },
  {
   "cell_type": "code",
   "execution_count": 51,
   "metadata": {},
   "outputs": [],
   "source": [
    "kunaldf = kunaldf.drop(\"term\",axis=1)"
   ]
  },
  {
   "cell_type": "code",
   "execution_count": 52,
   "metadata": {},
   "outputs": [
    {
     "data": {
      "text/html": [
       "<div>\n",
       "<style scoped>\n",
       "    .dataframe tbody tr th:only-of-type {\n",
       "        vertical-align: middle;\n",
       "    }\n",
       "\n",
       "    .dataframe tbody tr th {\n",
       "        vertical-align: top;\n",
       "    }\n",
       "\n",
       "    .dataframe thead th {\n",
       "        text-align: right;\n",
       "    }\n",
       "</style>\n",
       "<table border=\"1\" class=\"dataframe\">\n",
       "  <thead>\n",
       "    <tr style=\"text-align: right;\">\n",
       "      <th></th>\n",
       "      <th>loan_amnt</th>\n",
       "      <th>int_rate</th>\n",
       "      <th>grade</th>\n",
       "      <th>sub_grade</th>\n",
       "      <th>emp_title</th>\n",
       "      <th>emp_length</th>\n",
       "      <th>home_ownership</th>\n",
       "      <th>annual_inc</th>\n",
       "      <th>verification_status</th>\n",
       "      <th>issue_d</th>\n",
       "      <th>...</th>\n",
       "      <th>pub_rec</th>\n",
       "      <th>revol_bal</th>\n",
       "      <th>revol_util</th>\n",
       "      <th>total_acc</th>\n",
       "      <th>initial_list_status</th>\n",
       "      <th>application_type</th>\n",
       "      <th>mort_acc</th>\n",
       "      <th>pub_rec_bankruptcies</th>\n",
       "      <th>address</th>\n",
       "      <th>term_in_months</th>\n",
       "    </tr>\n",
       "  </thead>\n",
       "  <tbody>\n",
       "    <tr>\n",
       "      <th>0</th>\n",
       "      <td>10000.0</td>\n",
       "      <td>11.44</td>\n",
       "      <td>B</td>\n",
       "      <td>B4</td>\n",
       "      <td>Marketing</td>\n",
       "      <td>10+ years</td>\n",
       "      <td>RENT</td>\n",
       "      <td>117000.0</td>\n",
       "      <td>Not Verified</td>\n",
       "      <td>Jan-2015</td>\n",
       "      <td>...</td>\n",
       "      <td>0.0</td>\n",
       "      <td>36369.0</td>\n",
       "      <td>41.8</td>\n",
       "      <td>25.0</td>\n",
       "      <td>w</td>\n",
       "      <td>INDIVIDUAL</td>\n",
       "      <td>0.0</td>\n",
       "      <td>0.0</td>\n",
       "      <td>0174 Michelle Gateway\\nMendozaberg, OK 22690</td>\n",
       "      <td>36</td>\n",
       "    </tr>\n",
       "    <tr>\n",
       "      <th>1</th>\n",
       "      <td>8000.0</td>\n",
       "      <td>11.99</td>\n",
       "      <td>B</td>\n",
       "      <td>B5</td>\n",
       "      <td>Credit analyst</td>\n",
       "      <td>4 years</td>\n",
       "      <td>MORTGAGE</td>\n",
       "      <td>65000.0</td>\n",
       "      <td>Not Verified</td>\n",
       "      <td>Jan-2015</td>\n",
       "      <td>...</td>\n",
       "      <td>0.0</td>\n",
       "      <td>20131.0</td>\n",
       "      <td>53.3</td>\n",
       "      <td>27.0</td>\n",
       "      <td>f</td>\n",
       "      <td>INDIVIDUAL</td>\n",
       "      <td>3.0</td>\n",
       "      <td>0.0</td>\n",
       "      <td>1076 Carney Fort Apt. 347\\nLoganmouth, SD 05113</td>\n",
       "      <td>36</td>\n",
       "    </tr>\n",
       "    <tr>\n",
       "      <th>2</th>\n",
       "      <td>15600.0</td>\n",
       "      <td>10.49</td>\n",
       "      <td>B</td>\n",
       "      <td>B3</td>\n",
       "      <td>Statistician</td>\n",
       "      <td>&lt; 1 year</td>\n",
       "      <td>RENT</td>\n",
       "      <td>43057.0</td>\n",
       "      <td>Source Verified</td>\n",
       "      <td>Jan-2015</td>\n",
       "      <td>...</td>\n",
       "      <td>0.0</td>\n",
       "      <td>11987.0</td>\n",
       "      <td>92.2</td>\n",
       "      <td>26.0</td>\n",
       "      <td>f</td>\n",
       "      <td>INDIVIDUAL</td>\n",
       "      <td>0.0</td>\n",
       "      <td>0.0</td>\n",
       "      <td>87025 Mark Dale Apt. 269\\nNew Sabrina, WV 05113</td>\n",
       "      <td>36</td>\n",
       "    </tr>\n",
       "    <tr>\n",
       "      <th>3</th>\n",
       "      <td>7200.0</td>\n",
       "      <td>6.49</td>\n",
       "      <td>A</td>\n",
       "      <td>A2</td>\n",
       "      <td>Client Advocate</td>\n",
       "      <td>6 years</td>\n",
       "      <td>RENT</td>\n",
       "      <td>54000.0</td>\n",
       "      <td>Not Verified</td>\n",
       "      <td>Nov-2014</td>\n",
       "      <td>...</td>\n",
       "      <td>0.0</td>\n",
       "      <td>5472.0</td>\n",
       "      <td>21.5</td>\n",
       "      <td>13.0</td>\n",
       "      <td>f</td>\n",
       "      <td>INDIVIDUAL</td>\n",
       "      <td>0.0</td>\n",
       "      <td>0.0</td>\n",
       "      <td>823 Reid Ford\\nDelacruzside, MA 00813</td>\n",
       "      <td>36</td>\n",
       "    </tr>\n",
       "    <tr>\n",
       "      <th>4</th>\n",
       "      <td>24375.0</td>\n",
       "      <td>17.27</td>\n",
       "      <td>C</td>\n",
       "      <td>C5</td>\n",
       "      <td>Destiny Management Inc.</td>\n",
       "      <td>9 years</td>\n",
       "      <td>MORTGAGE</td>\n",
       "      <td>55000.0</td>\n",
       "      <td>Verified</td>\n",
       "      <td>Apr-2013</td>\n",
       "      <td>...</td>\n",
       "      <td>0.0</td>\n",
       "      <td>24584.0</td>\n",
       "      <td>69.8</td>\n",
       "      <td>43.0</td>\n",
       "      <td>f</td>\n",
       "      <td>INDIVIDUAL</td>\n",
       "      <td>1.0</td>\n",
       "      <td>0.0</td>\n",
       "      <td>679 Luna Roads\\nGreggshire, VA 11650</td>\n",
       "      <td>60</td>\n",
       "    </tr>\n",
       "  </tbody>\n",
       "</table>\n",
       "<p>5 rows × 26 columns</p>\n",
       "</div>"
      ],
      "text/plain": [
       "   loan_amnt  int_rate grade sub_grade                emp_title emp_length  \\\n",
       "0    10000.0     11.44     B        B4                Marketing  10+ years   \n",
       "1     8000.0     11.99     B        B5          Credit analyst     4 years   \n",
       "2    15600.0     10.49     B        B3             Statistician   < 1 year   \n",
       "3     7200.0      6.49     A        A2          Client Advocate    6 years   \n",
       "4    24375.0     17.27     C        C5  Destiny Management Inc.    9 years   \n",
       "\n",
       "  home_ownership  annual_inc verification_status   issue_d  ...  pub_rec  \\\n",
       "0           RENT    117000.0        Not Verified  Jan-2015  ...      0.0   \n",
       "1       MORTGAGE     65000.0        Not Verified  Jan-2015  ...      0.0   \n",
       "2           RENT     43057.0     Source Verified  Jan-2015  ...      0.0   \n",
       "3           RENT     54000.0        Not Verified  Nov-2014  ...      0.0   \n",
       "4       MORTGAGE     55000.0            Verified  Apr-2013  ...      0.0   \n",
       "\n",
       "  revol_bal revol_util  total_acc initial_list_status  application_type  \\\n",
       "0   36369.0       41.8       25.0                   w        INDIVIDUAL   \n",
       "1   20131.0       53.3       27.0                   f        INDIVIDUAL   \n",
       "2   11987.0       92.2       26.0                   f        INDIVIDUAL   \n",
       "3    5472.0       21.5       13.0                   f        INDIVIDUAL   \n",
       "4   24584.0       69.8       43.0                   f        INDIVIDUAL   \n",
       "\n",
       "   mort_acc  pub_rec_bankruptcies  \\\n",
       "0       0.0                   0.0   \n",
       "1       3.0                   0.0   \n",
       "2       0.0                   0.0   \n",
       "3       0.0                   0.0   \n",
       "4       1.0                   0.0   \n",
       "\n",
       "                                           address  term_in_months  \n",
       "0     0174 Michelle Gateway\\nMendozaberg, OK 22690              36  \n",
       "1  1076 Carney Fort Apt. 347\\nLoganmouth, SD 05113              36  \n",
       "2  87025 Mark Dale Apt. 269\\nNew Sabrina, WV 05113              36  \n",
       "3            823 Reid Ford\\nDelacruzside, MA 00813              36  \n",
       "4             679 Luna Roads\\nGreggshire, VA 11650              60  \n",
       "\n",
       "[5 rows x 26 columns]"
      ]
     },
     "execution_count": 52,
     "metadata": {},
     "output_type": "execute_result"
    }
   ],
   "source": [
    "kunaldf.head()"
   ]
  },
  {
   "cell_type": "markdown",
   "metadata": {},
   "source": [
    "### handling Categorical variables"
   ]
  },
  {
   "cell_type": "code",
   "execution_count": 53,
   "metadata": {},
   "outputs": [],
   "source": [
    "# We have a bunch of cateegorical data in the dataset, we can make use of labelEncoder and OnehotEncoding to\n",
    "# handle these categorical variables\n",
    "from sklearn.preprocessing import LabelEncoder,OneHotEncoder\n",
    "labelencoder = LabelEncoder()\n",
    "kunaldf[\"home_ownership\"] = labelencoder.fit_transform(kunaldf[\"home_ownership\"])\n",
    "onehotencoder = OneHotEncoder()\n",
    "arr = onehotencoder.fit_transform(df[[\"home_ownership\"]]).toarray()\n",
    "labels = list(labelencoder.classes_)\n",
    "newdf = pd.DataFrame(arr,columns=labels)\n",
    "\n",
    "kunaldf = pd.concat([kunaldf,newdf],axis=1)\n",
    "\n",
    "kunaldf = kunaldf.drop(\"home_ownership\",axis=1)"
   ]
  },
  {
   "cell_type": "code",
   "execution_count": 54,
   "metadata": {},
   "outputs": [
    {
     "data": {
      "text/html": [
       "<div>\n",
       "<style scoped>\n",
       "    .dataframe tbody tr th:only-of-type {\n",
       "        vertical-align: middle;\n",
       "    }\n",
       "\n",
       "    .dataframe tbody tr th {\n",
       "        vertical-align: top;\n",
       "    }\n",
       "\n",
       "    .dataframe thead th {\n",
       "        text-align: right;\n",
       "    }\n",
       "</style>\n",
       "<table border=\"1\" class=\"dataframe\">\n",
       "  <thead>\n",
       "    <tr style=\"text-align: right;\">\n",
       "      <th></th>\n",
       "      <th>loan_amnt</th>\n",
       "      <th>int_rate</th>\n",
       "      <th>grade</th>\n",
       "      <th>sub_grade</th>\n",
       "      <th>emp_title</th>\n",
       "      <th>emp_length</th>\n",
       "      <th>annual_inc</th>\n",
       "      <th>verification_status</th>\n",
       "      <th>issue_d</th>\n",
       "      <th>loan_status</th>\n",
       "      <th>...</th>\n",
       "      <th>mort_acc</th>\n",
       "      <th>pub_rec_bankruptcies</th>\n",
       "      <th>address</th>\n",
       "      <th>term_in_months</th>\n",
       "      <th>ANY</th>\n",
       "      <th>MORTGAGE</th>\n",
       "      <th>NONE</th>\n",
       "      <th>OTHER</th>\n",
       "      <th>OWN</th>\n",
       "      <th>RENT</th>\n",
       "    </tr>\n",
       "  </thead>\n",
       "  <tbody>\n",
       "    <tr>\n",
       "      <th>0</th>\n",
       "      <td>10000.0</td>\n",
       "      <td>11.44</td>\n",
       "      <td>B</td>\n",
       "      <td>B4</td>\n",
       "      <td>Marketing</td>\n",
       "      <td>10+ years</td>\n",
       "      <td>117000.0</td>\n",
       "      <td>Not Verified</td>\n",
       "      <td>Jan-2015</td>\n",
       "      <td>1</td>\n",
       "      <td>...</td>\n",
       "      <td>0.0</td>\n",
       "      <td>0.0</td>\n",
       "      <td>0174 Michelle Gateway\\nMendozaberg, OK 22690</td>\n",
       "      <td>36</td>\n",
       "      <td>0.0</td>\n",
       "      <td>0.0</td>\n",
       "      <td>0.0</td>\n",
       "      <td>0.0</td>\n",
       "      <td>0.0</td>\n",
       "      <td>1.0</td>\n",
       "    </tr>\n",
       "    <tr>\n",
       "      <th>1</th>\n",
       "      <td>8000.0</td>\n",
       "      <td>11.99</td>\n",
       "      <td>B</td>\n",
       "      <td>B5</td>\n",
       "      <td>Credit analyst</td>\n",
       "      <td>4 years</td>\n",
       "      <td>65000.0</td>\n",
       "      <td>Not Verified</td>\n",
       "      <td>Jan-2015</td>\n",
       "      <td>1</td>\n",
       "      <td>...</td>\n",
       "      <td>3.0</td>\n",
       "      <td>0.0</td>\n",
       "      <td>1076 Carney Fort Apt. 347\\nLoganmouth, SD 05113</td>\n",
       "      <td>36</td>\n",
       "      <td>0.0</td>\n",
       "      <td>1.0</td>\n",
       "      <td>0.0</td>\n",
       "      <td>0.0</td>\n",
       "      <td>0.0</td>\n",
       "      <td>0.0</td>\n",
       "    </tr>\n",
       "    <tr>\n",
       "      <th>2</th>\n",
       "      <td>15600.0</td>\n",
       "      <td>10.49</td>\n",
       "      <td>B</td>\n",
       "      <td>B3</td>\n",
       "      <td>Statistician</td>\n",
       "      <td>&lt; 1 year</td>\n",
       "      <td>43057.0</td>\n",
       "      <td>Source Verified</td>\n",
       "      <td>Jan-2015</td>\n",
       "      <td>1</td>\n",
       "      <td>...</td>\n",
       "      <td>0.0</td>\n",
       "      <td>0.0</td>\n",
       "      <td>87025 Mark Dale Apt. 269\\nNew Sabrina, WV 05113</td>\n",
       "      <td>36</td>\n",
       "      <td>0.0</td>\n",
       "      <td>0.0</td>\n",
       "      <td>0.0</td>\n",
       "      <td>0.0</td>\n",
       "      <td>0.0</td>\n",
       "      <td>1.0</td>\n",
       "    </tr>\n",
       "    <tr>\n",
       "      <th>3</th>\n",
       "      <td>7200.0</td>\n",
       "      <td>6.49</td>\n",
       "      <td>A</td>\n",
       "      <td>A2</td>\n",
       "      <td>Client Advocate</td>\n",
       "      <td>6 years</td>\n",
       "      <td>54000.0</td>\n",
       "      <td>Not Verified</td>\n",
       "      <td>Nov-2014</td>\n",
       "      <td>1</td>\n",
       "      <td>...</td>\n",
       "      <td>0.0</td>\n",
       "      <td>0.0</td>\n",
       "      <td>823 Reid Ford\\nDelacruzside, MA 00813</td>\n",
       "      <td>36</td>\n",
       "      <td>0.0</td>\n",
       "      <td>0.0</td>\n",
       "      <td>0.0</td>\n",
       "      <td>0.0</td>\n",
       "      <td>0.0</td>\n",
       "      <td>1.0</td>\n",
       "    </tr>\n",
       "    <tr>\n",
       "      <th>4</th>\n",
       "      <td>24375.0</td>\n",
       "      <td>17.27</td>\n",
       "      <td>C</td>\n",
       "      <td>C5</td>\n",
       "      <td>Destiny Management Inc.</td>\n",
       "      <td>9 years</td>\n",
       "      <td>55000.0</td>\n",
       "      <td>Verified</td>\n",
       "      <td>Apr-2013</td>\n",
       "      <td>0</td>\n",
       "      <td>...</td>\n",
       "      <td>1.0</td>\n",
       "      <td>0.0</td>\n",
       "      <td>679 Luna Roads\\nGreggshire, VA 11650</td>\n",
       "      <td>60</td>\n",
       "      <td>0.0</td>\n",
       "      <td>1.0</td>\n",
       "      <td>0.0</td>\n",
       "      <td>0.0</td>\n",
       "      <td>0.0</td>\n",
       "      <td>0.0</td>\n",
       "    </tr>\n",
       "  </tbody>\n",
       "</table>\n",
       "<p>5 rows × 31 columns</p>\n",
       "</div>"
      ],
      "text/plain": [
       "   loan_amnt  int_rate grade sub_grade                emp_title emp_length  \\\n",
       "0    10000.0     11.44     B        B4                Marketing  10+ years   \n",
       "1     8000.0     11.99     B        B5          Credit analyst     4 years   \n",
       "2    15600.0     10.49     B        B3             Statistician   < 1 year   \n",
       "3     7200.0      6.49     A        A2          Client Advocate    6 years   \n",
       "4    24375.0     17.27     C        C5  Destiny Management Inc.    9 years   \n",
       "\n",
       "   annual_inc verification_status   issue_d  loan_status  ... mort_acc  \\\n",
       "0    117000.0        Not Verified  Jan-2015            1  ...      0.0   \n",
       "1     65000.0        Not Verified  Jan-2015            1  ...      3.0   \n",
       "2     43057.0     Source Verified  Jan-2015            1  ...      0.0   \n",
       "3     54000.0        Not Verified  Nov-2014            1  ...      0.0   \n",
       "4     55000.0            Verified  Apr-2013            0  ...      1.0   \n",
       "\n",
       "  pub_rec_bankruptcies                                          address  \\\n",
       "0                  0.0     0174 Michelle Gateway\\nMendozaberg, OK 22690   \n",
       "1                  0.0  1076 Carney Fort Apt. 347\\nLoganmouth, SD 05113   \n",
       "2                  0.0  87025 Mark Dale Apt. 269\\nNew Sabrina, WV 05113   \n",
       "3                  0.0            823 Reid Ford\\nDelacruzside, MA 00813   \n",
       "4                  0.0             679 Luna Roads\\nGreggshire, VA 11650   \n",
       "\n",
       "  term_in_months  ANY  MORTGAGE  NONE  OTHER  OWN RENT  \n",
       "0             36  0.0       0.0   0.0    0.0  0.0  1.0  \n",
       "1             36  0.0       1.0   0.0    0.0  0.0  0.0  \n",
       "2             36  0.0       0.0   0.0    0.0  0.0  1.0  \n",
       "3             36  0.0       0.0   0.0    0.0  0.0  1.0  \n",
       "4             60  0.0       1.0   0.0    0.0  0.0  0.0  \n",
       "\n",
       "[5 rows x 31 columns]"
      ]
     },
     "execution_count": 54,
     "metadata": {},
     "output_type": "execute_result"
    }
   ],
   "source": [
    "kunaldf.head()"
   ]
  },
  {
   "cell_type": "code",
   "execution_count": 55,
   "metadata": {},
   "outputs": [],
   "source": [
    "# Since there are too many employee titles we can remove emp_title as of now\n",
    "\n",
    "kunaldf = kunaldf.drop(\"emp_title\",axis=1)"
   ]
  },
  {
   "cell_type": "code",
   "execution_count": 66,
   "metadata": {},
   "outputs": [
    {
     "data": {
      "text/plain": [
       "10+ years    126041\n",
       "2 years       35827\n",
       "< 1 year      31725\n",
       "3 years       31665\n",
       "5 years       26495\n",
       "1 year        25882\n",
       "4 years       23952\n",
       "6 years       20841\n",
       "7 years       20819\n",
       "8 years       19168\n",
       "9 years       15314\n",
       "Name: emp_length, dtype: int64"
      ]
     },
     "execution_count": 66,
     "metadata": {},
     "output_type": "execute_result"
    }
   ],
   "source": [
    "kunaldf[\"emp_length\"].value_counts()"
   ]
  },
  {
   "cell_type": "code",
   "execution_count": 71,
   "metadata": {},
   "outputs": [],
   "source": [
    "def emp_length(emp):\n",
    "    if emp == '10+ years':\n",
    "        return 10.0\n",
    "    elif emp == \"< 1 year\":\n",
    "        return 0.5\n",
    "    elif isinstance(emp,float):\n",
    "        return 0\n",
    "    elif emp[-1] == 's':\n",
    "        return emp[0]\n",
    "    else:\n",
    "        return 0"
   ]
  },
  {
   "cell_type": "code",
   "execution_count": 73,
   "metadata": {},
   "outputs": [],
   "source": [
    "kunaldf[\"employment_length\"] = kunaldf[\"emp_length\"].apply(emp_length)"
   ]
  },
  {
   "cell_type": "code",
   "execution_count": 77,
   "metadata": {},
   "outputs": [],
   "source": [
    "kunaldf = kunaldf.drop(\"emp_length\",axis=1)"
   ]
  },
  {
   "cell_type": "code",
   "execution_count": 79,
   "metadata": {},
   "outputs": [
    {
     "data": {
      "text/html": [
       "<div>\n",
       "<style scoped>\n",
       "    .dataframe tbody tr th:only-of-type {\n",
       "        vertical-align: middle;\n",
       "    }\n",
       "\n",
       "    .dataframe tbody tr th {\n",
       "        vertical-align: top;\n",
       "    }\n",
       "\n",
       "    .dataframe thead th {\n",
       "        text-align: right;\n",
       "    }\n",
       "</style>\n",
       "<table border=\"1\" class=\"dataframe\">\n",
       "  <thead>\n",
       "    <tr style=\"text-align: right;\">\n",
       "      <th></th>\n",
       "      <th>loan_amnt</th>\n",
       "      <th>int_rate</th>\n",
       "      <th>grade</th>\n",
       "      <th>sub_grade</th>\n",
       "      <th>annual_inc</th>\n",
       "      <th>verification_status</th>\n",
       "      <th>issue_d</th>\n",
       "      <th>loan_status</th>\n",
       "      <th>purpose</th>\n",
       "      <th>title</th>\n",
       "    </tr>\n",
       "  </thead>\n",
       "  <tbody>\n",
       "    <tr>\n",
       "      <th>0</th>\n",
       "      <td>10000.0</td>\n",
       "      <td>11.44</td>\n",
       "      <td>B</td>\n",
       "      <td>B4</td>\n",
       "      <td>117000.0</td>\n",
       "      <td>Not Verified</td>\n",
       "      <td>Jan-2015</td>\n",
       "      <td>1</td>\n",
       "      <td>vacation</td>\n",
       "      <td>Vacation</td>\n",
       "    </tr>\n",
       "    <tr>\n",
       "      <th>1</th>\n",
       "      <td>8000.0</td>\n",
       "      <td>11.99</td>\n",
       "      <td>B</td>\n",
       "      <td>B5</td>\n",
       "      <td>65000.0</td>\n",
       "      <td>Not Verified</td>\n",
       "      <td>Jan-2015</td>\n",
       "      <td>1</td>\n",
       "      <td>debt_consolidation</td>\n",
       "      <td>Debt consolidation</td>\n",
       "    </tr>\n",
       "  </tbody>\n",
       "</table>\n",
       "</div>"
      ],
      "text/plain": [
       "   loan_amnt  int_rate grade sub_grade  annual_inc verification_status  \\\n",
       "0    10000.0     11.44     B        B4    117000.0        Not Verified   \n",
       "1     8000.0     11.99     B        B5     65000.0        Not Verified   \n",
       "\n",
       "    issue_d  loan_status             purpose               title  \n",
       "0  Jan-2015            1            vacation            Vacation  \n",
       "1  Jan-2015            1  debt_consolidation  Debt consolidation  "
      ]
     },
     "execution_count": 79,
     "metadata": {},
     "output_type": "execute_result"
    }
   ],
   "source": [
    "kunaldf.iloc[0:2,0:10]"
   ]
  },
  {
   "cell_type": "code",
   "execution_count": 81,
   "metadata": {},
   "outputs": [
    {
     "data": {
      "text/plain": [
       "<matplotlib.axes._subplots.AxesSubplot at 0xa903d45710>"
      ]
     },
     "execution_count": 81,
     "metadata": {},
     "output_type": "execute_result"
    },
    {
     "data": {
      "image/png": "[encoded data removed]",
      "text/plain": [
       "<Figure size 432x288 with 1 Axes>"
      ]
     },
     "metadata": {
      "needs_background": "light"
     },
     "output_type": "display_data"
    }
   ],
   "source": [
    "# checking verification_status\n",
    "sns.countplot(x=\"verification_status\",hue=\"loan_status\",data=kunaldf)"
   ]
  },
  {
   "cell_type": "code",
   "execution_count": 82,
   "metadata": {},
   "outputs": [],
   "source": [
    "# since we can't find much of an information from verification_status\n",
    "kunaldf = kunaldf.drop(['verification_status','purpose','title'],axis=1)"
   ]
  },
  {
   "cell_type": "code",
   "execution_count": 86,
   "metadata": {},
   "outputs": [
    {
     "data": {
      "text/html": [
       "<div>\n",
       "<style scoped>\n",
       "    .dataframe tbody tr th:only-of-type {\n",
       "        vertical-align: middle;\n",
       "    }\n",
       "\n",
       "    .dataframe tbody tr th {\n",
       "        vertical-align: top;\n",
       "    }\n",
       "\n",
       "    .dataframe thead th {\n",
       "        text-align: right;\n",
       "    }\n",
       "</style>\n",
       "<table border=\"1\" class=\"dataframe\">\n",
       "  <thead>\n",
       "    <tr style=\"text-align: right;\">\n",
       "      <th></th>\n",
       "      <th>pub_rec</th>\n",
       "      <th>revol_bal</th>\n",
       "      <th>revol_util</th>\n",
       "      <th>total_acc</th>\n",
       "      <th>initial_list_status</th>\n",
       "      <th>application_type</th>\n",
       "      <th>mort_acc</th>\n",
       "      <th>pub_rec_bankruptcies</th>\n",
       "      <th>term_in_months</th>\n",
       "      <th>ANY</th>\n",
       "    </tr>\n",
       "  </thead>\n",
       "  <tbody>\n",
       "    <tr>\n",
       "      <th>0</th>\n",
       "      <td>0.0</td>\n",
       "      <td>36369.0</td>\n",
       "      <td>41.8</td>\n",
       "      <td>25.0</td>\n",
       "      <td>w</td>\n",
       "      <td>INDIVIDUAL</td>\n",
       "      <td>0.0</td>\n",
       "      <td>0.0</td>\n",
       "      <td>36</td>\n",
       "      <td>0.0</td>\n",
       "    </tr>\n",
       "  </tbody>\n",
       "</table>\n",
       "</div>"
      ],
      "text/plain": [
       "   pub_rec  revol_bal  revol_util  total_acc initial_list_status  \\\n",
       "0      0.0    36369.0        41.8       25.0                   w   \n",
       "\n",
       "  application_type  mort_acc  pub_rec_bankruptcies term_in_months  ANY  \n",
       "0       INDIVIDUAL       0.0                   0.0             36  0.0  "
      ]
     },
     "execution_count": 86,
     "metadata": {},
     "output_type": "execute_result"
    }
   ],
   "source": [
    "kunaldf.iloc[0:1,10:20]"
   ]
  },
  {
   "cell_type": "code",
   "execution_count": 85,
   "metadata": {},
   "outputs": [],
   "source": [
    "kunaldf = kunaldf.drop(\"address\",axis=1)"
   ]
  },
  {
   "cell_type": "code",
   "execution_count": 90,
   "metadata": {},
   "outputs": [
    {
     "data": {
      "text/plain": [
       "INDIVIDUAL    395319\n",
       "JOINT            425\n",
       "DIRECT_PAY       286\n",
       "Name: application_type, dtype: int64"
      ]
     },
     "execution_count": 90,
     "metadata": {},
     "output_type": "execute_result"
    }
   ],
   "source": [
    "kunaldf[\"application_type\"].value_counts()"
   ]
  },
  {
   "cell_type": "code",
   "execution_count": 89,
   "metadata": {},
   "outputs": [
    {
     "data": {
      "text/plain": [
       "<matplotlib.axes._subplots.AxesSubplot at 0xa904ddd588>"
      ]
     },
     "execution_count": 89,
     "metadata": {},
     "output_type": "execute_result"
    },
    {
     "data": {
      "image/png": "[encoded data removed]",
      "text/plain": [
       "<Figure size 432x288 with 1 Axes>"
      ]
     },
     "metadata": {
      "needs_background": "light"
     },
     "output_type": "display_data"
    }
   ],
   "source": [
    "sns.countplot(x=\"application_type\",hue=\"loan_status\",data=kunaldf)"
   ]
  },
  {
   "cell_type": "code",
   "execution_count": 92,
   "metadata": {},
   "outputs": [],
   "source": [
    "kunaldf = kunaldf.drop(\"application_type\",axis=1)"
   ]
  },
  {
   "cell_type": "code",
   "execution_count": 94,
   "metadata": {},
   "outputs": [
    {
     "data": {
      "text/plain": [
       "f    238066\n",
       "w    157964\n",
       "Name: initial_list_status, dtype: int64"
      ]
     },
     "execution_count": 94,
     "metadata": {},
     "output_type": "execute_result"
    }
   ],
   "source": [
    "kunaldf[\"initial_list_status\"].value_counts()"
   ]
  },
  {
   "cell_type": "code",
   "execution_count": 98,
   "metadata": {},
   "outputs": [
    {
     "data": {
      "text/plain": [
       "<matplotlib.axes._subplots.AxesSubplot at 0xa9043b0828>"
      ]
     },
     "execution_count": 98,
     "metadata": {},
     "output_type": "execute_result"
    },
    {
     "data": {
      "image/png": "[encoded data removed]",
      "text/plain": [
       "<Figure size 432x288 with 1 Axes>"
      ]
     },
     "metadata": {
      "needs_background": "light"
     },
     "output_type": "display_data"
    }
   ],
   "source": [
    "sns.countplot(x=\"initial_list_status\",hue=\"loan_status\",data=kunaldf)"
   ]
  },
  {
   "cell_type": "code",
   "execution_count": 99,
   "metadata": {},
   "outputs": [],
   "source": [
    "kunaldf = kunaldf.drop(\"initial_list_status\",axis=1)"
   ]
  },
  {
   "cell_type": "code",
   "execution_count": 149,
   "metadata": {},
   "outputs": [
    {
     "name": "stdout",
     "output_type": "stream",
     "text": [
      "<class 'pandas.core.frame.DataFrame'>\n",
      "RangeIndex: 396030 entries, 0 to 396029\n",
      "Data columns (total 23 columns):\n",
      "loan_amnt               396030 non-null float64\n",
      "int_rate                396030 non-null float64\n",
      "annual_inc              396030 non-null float64\n",
      "loan_status             396030 non-null int64\n",
      "dti                     396030 non-null float64\n",
      "earliest_cr_line        396030 non-null object\n",
      "open_acc                396030 non-null float64\n",
      "pub_rec                 396030 non-null float64\n",
      "revol_bal               396030 non-null float64\n",
      "revol_util              396030 non-null float64\n",
      "total_acc               396030 non-null float64\n",
      "mort_acc                396030 non-null float64\n",
      "pub_rec_bankruptcies    396030 non-null float64\n",
      "term_in_months          396030 non-null float64\n",
      "ANY                     396030 non-null float64\n",
      "MORTGAGE                396030 non-null float64\n",
      "NONE                    396030 non-null float64\n",
      "OTHER                   396030 non-null float64\n",
      "OWN                     396030 non-null float64\n",
      "RENT                    396030 non-null float64\n",
      "employment_length       396030 non-null float64\n",
      "issue_year              396030 non-null int64\n",
      "issure_month            396030 non-null int64\n",
      "dtypes: float64(19), int64(3), object(1)\n",
      "memory usage: 69.5+ MB\n"
     ]
    }
   ],
   "source": [
    "#checking whether all the input data are of same shape\n",
    "kunaldf.info()"
   ]
  },
  {
   "cell_type": "code",
   "execution_count": 148,
   "metadata": {},
   "outputs": [],
   "source": [
    "kunaldf[\"revol_util\"] = kunaldf[\"revol_util\"].apply(lambda x:float(x))"
   ]
  },
  {
   "cell_type": "code",
   "execution_count": 137,
   "metadata": {},
   "outputs": [],
   "source": [
    "kunaldf[\"issue_d\"] = pd.to_datetime(kunaldf[\"issue_d\"])"
   ]
  },
  {
   "cell_type": "code",
   "execution_count": 138,
   "metadata": {},
   "outputs": [],
   "source": [
    "kunaldf[\"issue_year\"] = kunaldf[\"issue_d\"].apply(lambda x:x.year)\n",
    "kunaldf[\"issure_month\"] = kunaldf[\"issue_d\"].apply(lambda x:x.month)\n",
    "kunaldf = kunaldf.drop(\"issue_d\",axis=1)"
   ]
  },
  {
   "cell_type": "code",
   "execution_count": 113,
   "metadata": {},
   "outputs": [],
   "source": [
    "kunaldf[\"pub_rec_bankruptcies\"]= kunaldf[\"pub_rec_bankruptcies\"].fillna(0.)"
   ]
  },
  {
   "cell_type": "code",
   "execution_count": 151,
   "metadata": {},
   "outputs": [],
   "source": [
    "kunaldf = kunaldf.drop(\"earliest_cr_line\",axis=1)"
   ]
  },
  {
   "cell_type": "markdown",
   "metadata": {},
   "source": [
    "### training the data"
   ]
  },
  {
   "cell_type": "code",
   "execution_count": 115,
   "metadata": {},
   "outputs": [],
   "source": [
    "from sklearn.model_selection import train_test_split"
   ]
  },
  {
   "cell_type": "code",
   "execution_count": 152,
   "metadata": {},
   "outputs": [],
   "source": [
    "X = kunaldf.drop('loan_status',axis=1).values\n",
    "y = kunaldf['loan_status'].values"
   ]
  },
  {
   "cell_type": "code",
   "execution_count": 153,
   "metadata": {},
   "outputs": [],
   "source": [
    "xtrain,xtest,ytrain,ytest = train_test_split(X,y,test_size=0.2,random_state=38)"
   ]
  },
  {
   "cell_type": "code",
   "execution_count": 154,
   "metadata": {},
   "outputs": [
    {
     "data": {
      "text/plain": [
       "((316824, 21), (79206, 21))"
      ]
     },
     "execution_count": 154,
     "metadata": {},
     "output_type": "execute_result"
    }
   ],
   "source": [
    "xtrain.shape,xtest.shape"
   ]
  },
  {
   "cell_type": "code",
   "execution_count": 125,
   "metadata": {},
   "outputs": [],
   "source": [
    "from tensorflow.keras.models import Sequential\n",
    "from tensorflow.keras.layers import Dense,Dropout\n",
    "from tensorflow.keras.callbacks import EarlyStopping"
   ]
  },
  {
   "cell_type": "code",
   "execution_count": 155,
   "metadata": {},
   "outputs": [],
   "source": [
    "from sklearn.preprocessing import MinMaxScaler\n",
    "mms = MinMaxScaler()\n",
    "xtrain = mms.fit_transform(xtrain)\n",
    "xtest = mms.transform(xtest)"
   ]
  },
  {
   "cell_type": "code",
   "execution_count": 159,
   "metadata": {},
   "outputs": [],
   "source": [
    "model = Sequential()\n",
    "model.add(Dense(21,activation=\"relu\"))\n",
    "model.add(Dropout(0.3))\n",
    "model.add(Dense(21,activation=\"relu\"))\n",
    "model.add(Dropout(0.3))\n",
    "\n",
    "model.add(Dense(1,activation=\"sigmoid\"))\n",
    "\n",
    "model.compile(optimizer='adam',loss=\"binary_crossentropy\")\n",
    "\n"
   ]
  },
  {
   "cell_type": "code",
   "execution_count": 160,
   "metadata": {},
   "outputs": [
    {
     "name": "stdout",
     "output_type": "stream",
     "text": [
      "Train on 316824 samples, validate on 79206 samples\n",
      "Epoch 1/600\n",
      "316824/316824 [==============================] - 50s 157us/sample - loss: 0.4701 - val_loss: 0.4543\n",
      "Epoch 2/600\n",
      "316824/316824 [==============================] - 45s 142us/sample - loss: 0.4600 - val_loss: 0.4531\n",
      "Epoch 3/600\n",
      "316824/316824 [==============================] - 35s 110us/sample - loss: 0.4585 - val_loss: 0.4526\n",
      "Epoch 4/600\n",
      "316824/316824 [==============================] - 47s 147us/sample - loss: 0.4575 - val_loss: 0.4529\n",
      "Epoch 5/600\n",
      "316824/316824 [==============================] - 28s 88us/sample - loss: 0.4573 - val_loss: 0.4525\n",
      "Epoch 6/600\n",
      "316824/316824 [==============================] - 40s 127us/sample - loss: 0.4570 - val_loss: 0.4539\n",
      "Epoch 7/600\n",
      "316824/316824 [==============================] - 39s 122us/sample - loss: 0.4566 - val_loss: 0.4521\n",
      "Epoch 8/600\n",
      "316824/316824 [==============================] - 33s 105us/sample - loss: 0.4563 - val_loss: 0.4530\n",
      "Epoch 9/600\n",
      "316824/316824 [==============================] - 33s 103us/sample - loss: 0.4563 - val_loss: 0.4516\n",
      "Epoch 10/600\n",
      "316824/316824 [==============================] - 39s 122us/sample - loss: 0.4558 - val_loss: 0.4521\n",
      "Epoch 11/600\n",
      "316824/316824 [==============================] - 36s 114us/sample - loss: 0.4559 - val_loss: 0.4494\n",
      "Epoch 12/600\n",
      "316824/316824 [==============================] - 35s 112us/sample - loss: 0.4554 - val_loss: 0.4504\n",
      "Epoch 13/600\n",
      "316824/316824 [==============================] - 37s 117us/sample - loss: 0.4548 - val_loss: 0.4498\n",
      "Epoch 14/600\n",
      "316824/316824 [==============================] - 33s 105us/sample - loss: 0.4550 - val_loss: 0.4491\n",
      "Epoch 15/600\n",
      "316824/316824 [==============================] - 45s 140us/sample - loss: 0.4547 - val_loss: 0.4491\n",
      "Epoch 16/600\n",
      "316824/316824 [==============================] - 35s 109us/sample - loss: 0.4544 - val_loss: 0.4501\n",
      "Epoch 17/600\n",
      "316824/316824 [==============================] - 37s 117us/sample - loss: 0.4541 - val_loss: 0.4480\n",
      "Epoch 18/600\n",
      "316824/316824 [==============================] - 31s 99us/sample - loss: 0.4536 - val_loss: 0.4487\n",
      "Epoch 19/600\n",
      "316824/316824 [==============================] - 30s 95us/sample - loss: 0.4539 - val_loss: 0.4477\n",
      "Epoch 20/600\n",
      "316824/316824 [==============================] - 31s 97us/sample - loss: 0.4533 - val_loss: 0.4478\n",
      "Epoch 21/600\n",
      "316824/316824 [==============================] - 41s 129us/sample - loss: 0.4532 - val_loss: 0.4490\n",
      "Epoch 22/600\n",
      "316824/316824 [==============================] - 37s 117us/sample - loss: 0.4531 - val_loss: 0.4472\n",
      "Epoch 23/600\n",
      "316824/316824 [==============================] - 36s 113us/sample - loss: 0.4531 - val_loss: 0.4476\n",
      "Epoch 24/600\n",
      "316824/316824 [==============================] - 40s 127us/sample - loss: 0.4529 - val_loss: 0.4464\n",
      "Epoch 25/600\n",
      "316824/316824 [==============================] - 35s 110us/sample - loss: 0.4528 - val_loss: 0.4487\n",
      "Epoch 26/600\n",
      "316824/316824 [==============================] - 32s 100us/sample - loss: 0.4524 - val_loss: 0.4481\n",
      "Epoch 27/600\n",
      "316824/316824 [==============================] - 32s 102us/sample - loss: 0.4527 - val_loss: 0.4458\n",
      "Epoch 28/600\n",
      "316824/316824 [==============================] - 36s 114us/sample - loss: 0.4529 - val_loss: 0.4454\n",
      "Epoch 29/600\n",
      "316824/316824 [==============================] - 30s 96us/sample - loss: 0.4524 - val_loss: 0.4452\n",
      "Epoch 30/600\n",
      "316824/316824 [==============================] - 34s 106us/sample - loss: 0.4525 - val_loss: 0.4492\n",
      "Epoch 31/600\n",
      "316824/316824 [==============================] - 31s 99us/sample - loss: 0.4527 - val_loss: 0.4489\n",
      "Epoch 32/600\n",
      "316824/316824 [==============================] - 37s 118us/sample - loss: 0.4527 - val_loss: 0.4471\n",
      "Epoch 33/600\n",
      "316824/316824 [==============================] - 30s 96us/sample - loss: 0.4525 - val_loss: 0.4458\n",
      "Epoch 34/600\n",
      "316824/316824 [==============================] - 30s 96us/sample - loss: 0.4524 - val_loss: 0.4460\n",
      "Epoch 35/600\n",
      "316824/316824 [==============================] - 32s 102us/sample - loss: 0.4525 - val_loss: 0.4475\n",
      "Epoch 36/600\n",
      "316824/316824 [==============================] - 34s 107us/sample - loss: 0.4524 - val_loss: 0.4472\n",
      "Epoch 37/600\n",
      "316824/316824 [==============================] - 32s 100us/sample - loss: 0.4521 - val_loss: 0.4469\n",
      "Epoch 38/600\n",
      "316824/316824 [==============================] - 32s 101us/sample - loss: 0.4521 - val_loss: 0.4467\n",
      "Epoch 39/600\n",
      "316824/316824 [==============================] - 33s 104us/sample - loss: 0.4521 - val_loss: 0.4456\n",
      "Epoch 40/600\n",
      "316824/316824 [==============================] - 30s 94us/sample - loss: 0.4527 - val_loss: 0.4439\n",
      "Epoch 41/600\n",
      "316824/316824 [==============================] - 33s 104us/sample - loss: 0.4521 - val_loss: 0.4469\n",
      "Epoch 42/600\n",
      "316824/316824 [==============================] - 37s 117us/sample - loss: 0.4521 - val_loss: 0.4466\n",
      "Epoch 43/600\n",
      "316824/316824 [==============================] - 33s 103us/sample - loss: 0.4521 - val_loss: 0.4447\n",
      "Epoch 44/600\n",
      "316824/316824 [==============================] - 33s 104us/sample - loss: 0.4523 - val_loss: 0.4462\n",
      "Epoch 45/600\n",
      "316824/316824 [==============================] - 31s 97us/sample - loss: 0.4519 - val_loss: 0.4475\n",
      "Epoch 46/600\n",
      "316824/316824 [==============================] - 45s 143us/sample - loss: 0.4522 - val_loss: 0.4443\n",
      "Epoch 47/600\n",
      "316824/316824 [==============================] - 39s 122us/sample - loss: 0.4524 - val_loss: 0.4442\n",
      "Epoch 48/600\n",
      "316824/316824 [==============================] - 37s 118us/sample - loss: 0.4519 - val_loss: 0.4459\n",
      "Epoch 49/600\n",
      "316824/316824 [==============================] - 41s 130us/sample - loss: 0.4520 - val_loss: 0.4448\n",
      "Epoch 50/600\n",
      "316824/316824 [==============================] - 34s 107us/sample - loss: 0.4520 - val_loss: 0.4473\n",
      "Epoch 51/600\n",
      "316824/316824 [==============================] - 38s 121us/sample - loss: 0.4517 - val_loss: 0.4466\n",
      "Epoch 52/600\n",
      "316824/316824 [==============================] - 29s 92us/sample - loss: 0.4514 - val_loss: 0.4446\n",
      "Epoch 53/600\n",
      "316824/316824 [==============================] - 49s 154us/sample - loss: 0.4517 - val_loss: 0.4481\n",
      "Epoch 54/600\n",
      "316824/316824 [==============================] - 32s 101us/sample - loss: 0.4519 - val_loss: 0.4450\n",
      "Epoch 55/600\n",
      "316824/316824 [==============================] - 38s 121us/sample - loss: 0.4521 - val_loss: 0.4456\n",
      "Epoch 56/600\n",
      "316824/316824 [==============================] - 32s 101us/sample - loss: 0.4515 - val_loss: 0.4456\n",
      "Epoch 57/600\n",
      "316824/316824 [==============================] - 35s 109us/sample - loss: 0.4514 - val_loss: 0.4453\n",
      "Epoch 58/600\n",
      "316824/316824 [==============================] - 29s 93us/sample - loss: 0.4512 - val_loss: 0.4451\n",
      "Epoch 59/600\n",
      "316824/316824 [==============================] - 32s 99us/sample - loss: 0.4517 - val_loss: 0.4456\n",
      "Epoch 60/600\n",
      "316824/316824 [==============================] - 29s 92us/sample - loss: 0.4519 - val_loss: 0.4474\n",
      "Epoch 61/600\n",
      "316824/316824 [==============================] - 29s 92us/sample - loss: 0.4516 - val_loss: 0.4434\n",
      "Epoch 62/600\n",
      "316824/316824 [==============================] - 33s 105us/sample - loss: 0.4516 - val_loss: 0.4459\n",
      "Epoch 63/600\n",
      "316824/316824 [==============================] - 33s 103us/sample - loss: 0.4517 - val_loss: 0.4455\n",
      "Epoch 64/600\n",
      "316824/316824 [==============================] - 31s 97us/sample - loss: 0.4517 - val_loss: 0.4463\n",
      "Epoch 65/600\n",
      "316824/316824 [==============================] - 32s 101us/sample - loss: 0.4515 - val_loss: 0.4454\n",
      "Epoch 66/600\n",
      "316824/316824 [==============================] - 31s 98us/sample - loss: 0.4517 - val_loss: 0.4454\n",
      "Epoch 67/600\n",
      "316824/316824 [==============================] - 31s 97us/sample - loss: 0.4518 - val_loss: 0.4484\n",
      "Epoch 68/600\n",
      "316824/316824 [==============================] - 32s 102us/sample - loss: 0.4518 - val_loss: 0.4449\n",
      "Epoch 69/600\n",
      "316824/316824 [==============================] - 30s 95us/sample - loss: 0.4514 - val_loss: 0.4446\n",
      "Epoch 70/600\n",
      "316824/316824 [==============================] - 32s 101us/sample - loss: 0.4516 - val_loss: 0.4465\n",
      "Epoch 71/600\n",
      "316824/316824 [==============================] - 30s 94us/sample - loss: 0.4514 - val_loss: 0.4470\n",
      "Epoch 72/600\n",
      "316824/316824 [==============================] - 31s 97us/sample - loss: 0.4516 - val_loss: 0.4453\n",
      "Epoch 73/600\n"
     ]
    },
    {
     "name": "stdout",
     "output_type": "stream",
     "text": [
      "316824/316824 [==============================] - 35s 109us/sample - loss: 0.4516 - val_loss: 0.4443\n",
      "Epoch 74/600\n",
      "316824/316824 [==============================] - 36s 115us/sample - loss: 0.4517 - val_loss: 0.4464\n",
      "Epoch 75/600\n",
      "316824/316824 [==============================] - 31s 96us/sample - loss: 0.4516 - val_loss: 0.4435\n",
      "Epoch 76/600\n",
      "316824/316824 [==============================] - 32s 102us/sample - loss: 0.4513 - val_loss: 0.4455\n",
      "Epoch 77/600\n",
      "316824/316824 [==============================] - 30s 95us/sample - loss: 0.4517 - val_loss: 0.4450\n",
      "Epoch 78/600\n",
      "316824/316824 [==============================] - 32s 100us/sample - loss: 0.4515 - val_loss: 0.4452\n",
      "Epoch 79/600\n",
      "316824/316824 [==============================] - 30s 95us/sample - loss: 0.4515 - val_loss: 0.4450\n",
      "Epoch 80/600\n",
      "316824/316824 [==============================] - 35s 112us/sample - loss: 0.4513 - val_loss: 0.4450\n",
      "Epoch 81/600\n",
      "316824/316824 [==============================] - 34s 106us/sample - loss: 0.4514 - val_loss: 0.4460\n",
      "Epoch 82/600\n",
      "316824/316824 [==============================] - 31s 98us/sample - loss: 0.4514 - val_loss: 0.4451\n",
      "Epoch 83/600\n",
      "316824/316824 [==============================] - 31s 98us/sample - loss: 0.4513 - val_loss: 0.4453\n",
      "Epoch 84/600\n",
      "316824/316824 [==============================] - 31s 96us/sample - loss: 0.4517 - val_loss: 0.4452\n",
      "Epoch 85/600\n",
      "316824/316824 [==============================] - 34s 106us/sample - loss: 0.4512 - val_loss: 0.4448\n",
      "Epoch 86/600\n",
      "316824/316824 [==============================] - 35s 111us/sample - loss: 0.4517 - val_loss: 0.4450\n",
      "Epoch 00086: early stopping\n"
     ]
    },
    {
     "data": {
      "text/plain": [
       "<tensorflow.python.keras.callbacks.History at 0xa99f4e6080>"
      ]
     },
     "execution_count": 160,
     "metadata": {},
     "output_type": "execute_result"
    }
   ],
   "source": [
    "early_stop = EarlyStopping(monitor=\"val_loss\",mode='min',verbose=1,patience=25)\n",
    "model.fit(x=xtrain,y=ytrain,epochs=600,validation_data=(xtest,ytest),\n",
    "         callbacks=[early_stop])"
   ]
  },
  {
   "cell_type": "code",
   "execution_count": 162,
   "metadata": {},
   "outputs": [
    {
     "data": {
      "text/plain": [
       "<matplotlib.axes._subplots.AxesSubplot at 0xa98fa62d30>"
      ]
     },
     "execution_count": 162,
     "metadata": {},
     "output_type": "execute_result"
    },
    {
     "data": {
      "image/png": "[encoded data removed]",
      "text/plain": [
       "<Figure size 432x288 with 1 Axes>"
      ]
     },
     "metadata": {
      "needs_background": "light"
     },
     "output_type": "display_data"
    }
   ],
   "source": [
    "#visualization of the errors, both traing and validation\n",
    "pd.DataFrame(model.history.history).plot()"
   ]
  },
  {
   "cell_type": "code",
   "execution_count": 164,
   "metadata": {},
   "outputs": [
    {
     "name": "stdout",
     "output_type": "stream",
     "text": [
      "[[1]\n",
      " [1]\n",
      " [1]\n",
      " ...\n",
      " [1]\n",
      " [1]\n",
      " [1]]\n"
     ]
    }
   ],
   "source": [
    "predictions =  model.predict_classes(xtest)\n",
    "print(predictions)"
   ]
  },
  {
   "cell_type": "code",
   "execution_count": 167,
   "metadata": {},
   "outputs": [],
   "source": [
    "from sklearn.metrics import classification_report,confusion_matrix"
   ]
  },
  {
   "cell_type": "code",
   "execution_count": 169,
   "metadata": {},
   "outputs": [
    {
     "name": "stdout",
     "output_type": "stream",
     "text": [
      "              precision    recall  f1-score   support\n",
      "\n",
      "           0       0.66      0.00      0.01     15463\n",
      "           1       0.81      1.00      0.89     63743\n",
      "\n",
      "    accuracy                           0.81     79206\n",
      "   macro avg       0.73      0.50      0.45     79206\n",
      "weighted avg       0.78      0.81      0.72     79206\n",
      "\n"
     ]
    }
   ],
   "source": [
    "print(classification_report(ytest,predictions))"
   ]
  },
  {
   "cell_type": "code",
   "execution_count": 170,
   "metadata": {},
   "outputs": [
    {
     "name": "stdout",
     "output_type": "stream",
     "text": [
      "[[   49 15414]\n",
      " [   25 63718]]\n"
     ]
    }
   ],
   "source": [
    "print(confusion_matrix(ytest,predictions))"
   ]
  },
  {
   "cell_type": "code",
   "execution_count": null,
   "metadata": {},
   "outputs": [],
   "source": []
  }
 ],
 "metadata": {
  "kernelspec": {
   "display_name": "Python 3",
   "language": "python",
   "name": "python3"
  },
  "language_info": {
   "codemirror_mode": {
    "name": "ipython",
    "version": 3
   },
   "file_extension": ".py",
   "mimetype": "text/x-python",
   "name": "python",
   "nbconvert_exporter": "python",
   "pygments_lexer": "ipython3",
   "version": "3.7.0"
  }
 },
 "nbformat": 4,
 "nbformat_minor": 2
}
